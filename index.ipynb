{
 "cells": [
  {
   "cell_type": "markdown",
   "metadata": {
    "toc": true
   },
   "source": [
    "<h1>Table of Contents<span class=\"tocSkip\"></span></h1>\n",
    "<div class=\"toc\"><ul class=\"toc-item\"><li><span><a href=\"#Hyperparameter-Tuning-and-Pruning-in-Decision-Trees---Lab\" data-toc-modified-id=\"Hyperparameter-Tuning-and-Pruning-in-Decision-Trees---Lab-1\">Hyperparameter Tuning and Pruning in Decision Trees - Lab</a></span><ul class=\"toc-item\"><li><span><a href=\"#Introduction\" data-toc-modified-id=\"Introduction-1.1\">Introduction</a></span></li><li><span><a href=\"#Objectives\" data-toc-modified-id=\"Objectives-1.2\">Objectives</a></span></li><li><span><a href=\"#Import-necessary-libraries\" data-toc-modified-id=\"Import-necessary-libraries-1.3\">Import necessary libraries</a></span></li><li><span><a href=\"#Read-the-Titanic-Dataset\" data-toc-modified-id=\"Read-the-Titanic-Dataset-1.4\">Read the Titanic Dataset</a></span></li><li><span><a href=\"#Create-a-70/30-Train/Test-split\" data-toc-modified-id=\"Create-a-70/30-Train/Test-split-1.5\">Create a 70/30 Train/Test split</a></span></li><li><span><a href=\"#Train-a-Vanilla-Classifier\" data-toc-modified-id=\"Train-a-Vanilla-Classifier-1.6\">Train a Vanilla Classifier</a></span></li><li><span><a href=\"#Make-predictions\" data-toc-modified-id=\"Make-predictions-1.7\">Make predictions</a></span><ul class=\"toc-item\"><li><span><a href=\"#def-calc_roc_auc\" data-toc-modified-id=\"def-calc_roc_auc-1.7.1\">def calc_roc_auc</a></span></li><li><span><a href=\"#def-tune_params\" data-toc-modified-id=\"def-tune_params-1.7.2\">def tune_params</a></span></li></ul></li><li><span><a href=\"#Maximum-Tree-Depth\" data-toc-modified-id=\"Maximum-Tree-Depth-1.8\">Maximum Tree Depth</a></span></li><li><span><a href=\"#Minimum-Sample-Split\" data-toc-modified-id=\"Minimum-Sample-Split-1.9\">Minimum Sample Split</a></span></li><li><span><a href=\"#Minimum-Sample-Leafs\" data-toc-modified-id=\"Minimum-Sample-Leafs-1.10\">Minimum Sample Leafs</a></span></li><li><span><a href=\"#Maximum-Features\" data-toc-modified-id=\"Maximum-Features-1.11\">Maximum Features</a></span></li><li><span><a href=\"#Re-train-the-classifier-with-chosen-values\" data-toc-modified-id=\"Re-train-the-classifier-with-chosen-values-1.12\">Re-train the classifier with chosen values</a></span></li><li><span><a href=\"#Summary\" data-toc-modified-id=\"Summary-1.13\">Summary</a></span></li></ul></li></ul></div>"
   ]
  },
  {
   "cell_type": "markdown",
   "metadata": {},
   "source": [
    "# Hyperparameter Tuning and Pruning in Decision Trees - Lab\n",
    "\n",
    "## Introduction\n",
    "\n",
    "In this lab we will use the titanic dataset to see the impact of tree pruning and hyper parameter tuning on the predictive performance of decision tree classifier. Pruning reduces the size of decision trees by removing nodes of the tree that do not provide power to classify instances. Decision trees are the most susceptible out of all the machine learning algorithms to overfitting and effective pruning can reduce this likelihood. In this lab, we shall work with the Titanic dataset and see how we can tweak different hyper parameters for optimal pruning of the trees. \n",
    "\n",
    "## Objectives\n",
    "You will be able to:\n",
    "- Demonstrate how pruning is performed for decision trees \n",
    "- Understand and explain the role of different Decision tree hyperparameters\n",
    "- Select the best values for chosen hyperparameters and monitor the improvemen in performance"
   ]
  },
  {
   "cell_type": "markdown",
   "metadata": {},
   "source": [
    "## Import necessary libraries\n",
    "\n",
    "Let's first import the libraries you would need for this lab. "
   ]
  },
  {
   "cell_type": "code",
   "execution_count": 1,
   "metadata": {},
   "outputs": [],
   "source": [
    "import numpy as np\n",
    "import pandas as pd\n",
    "import matplotlib as mpl\n",
    "import matplotlib.pyplot as plt\n",
    "from sklearn.model_selection import train_test_split\n",
    "from sklearn.tree import DecisionTreeClassifier\n",
    "from sklearn.metrics import roc_curve, auc\n",
    "plt.style.use('seaborn')"
   ]
  },
  {
   "cell_type": "markdown",
   "metadata": {},
   "source": [
    "## Read the Titanic Dataset\n",
    "\n",
    "In the repo, we have made titanic dataset , all cleaned up and pre-processed for you, so that you can focus on pruning and optimization. The features set is available as `featues.csv` and target variable as `target.csv`. \n",
    "- Load these files into separate dataframes below.\n",
    "- Check the shape for consistency and the view the head "
   ]
  },
  {
   "cell_type": "code",
   "execution_count": 2,
   "metadata": {},
   "outputs": [
    {
     "name": "stdout",
     "output_type": "stream",
     "text": [
      "(891, 13) (891, 1)\n"
     ]
    }
   ],
   "source": [
    "# Load features and target variables\n",
    "X = pd.read_csv('features.csv')\n",
    "Y = pd.read_csv('target.csv')\n",
    "# Your code here \n",
    "print(X.shape,Y.shape)"
   ]
  },
  {
   "cell_type": "code",
   "execution_count": 3,
   "metadata": {},
   "outputs": [
    {
     "data": {
      "text/html": [
       "<div>\n",
       "<style scoped>\n",
       "    .dataframe tbody tr th:only-of-type {\n",
       "        vertical-align: middle;\n",
       "    }\n",
       "\n",
       "    .dataframe tbody tr th {\n",
       "        vertical-align: top;\n",
       "    }\n",
       "\n",
       "    .dataframe thead th {\n",
       "        text-align: right;\n",
       "    }\n",
       "</style>\n",
       "<table border=\"1\" class=\"dataframe\">\n",
       "  <thead>\n",
       "    <tr style=\"text-align: right;\">\n",
       "      <th></th>\n",
       "      <th>PassengerId</th>\n",
       "      <th>Age</th>\n",
       "      <th>SibSp</th>\n",
       "      <th>Parch</th>\n",
       "      <th>Fare</th>\n",
       "      <th>Pclass_1</th>\n",
       "      <th>Pclass_2</th>\n",
       "      <th>Pclass_3</th>\n",
       "      <th>Sex_female</th>\n",
       "      <th>Sex_male</th>\n",
       "      <th>Embarked_C</th>\n",
       "      <th>Embarked_Q</th>\n",
       "      <th>Embarked_S</th>\n",
       "    </tr>\n",
       "  </thead>\n",
       "  <tbody>\n",
       "    <tr>\n",
       "      <th>0</th>\n",
       "      <td>1</td>\n",
       "      <td>22.0</td>\n",
       "      <td>1</td>\n",
       "      <td>0</td>\n",
       "      <td>7.2500</td>\n",
       "      <td>0</td>\n",
       "      <td>0</td>\n",
       "      <td>1</td>\n",
       "      <td>0</td>\n",
       "      <td>1</td>\n",
       "      <td>0</td>\n",
       "      <td>0</td>\n",
       "      <td>1</td>\n",
       "    </tr>\n",
       "    <tr>\n",
       "      <th>1</th>\n",
       "      <td>2</td>\n",
       "      <td>38.0</td>\n",
       "      <td>1</td>\n",
       "      <td>0</td>\n",
       "      <td>71.2833</td>\n",
       "      <td>1</td>\n",
       "      <td>0</td>\n",
       "      <td>0</td>\n",
       "      <td>1</td>\n",
       "      <td>0</td>\n",
       "      <td>1</td>\n",
       "      <td>0</td>\n",
       "      <td>0</td>\n",
       "    </tr>\n",
       "    <tr>\n",
       "      <th>2</th>\n",
       "      <td>3</td>\n",
       "      <td>26.0</td>\n",
       "      <td>0</td>\n",
       "      <td>0</td>\n",
       "      <td>7.9250</td>\n",
       "      <td>0</td>\n",
       "      <td>0</td>\n",
       "      <td>1</td>\n",
       "      <td>1</td>\n",
       "      <td>0</td>\n",
       "      <td>0</td>\n",
       "      <td>0</td>\n",
       "      <td>1</td>\n",
       "    </tr>\n",
       "    <tr>\n",
       "      <th>3</th>\n",
       "      <td>4</td>\n",
       "      <td>35.0</td>\n",
       "      <td>1</td>\n",
       "      <td>0</td>\n",
       "      <td>53.1000</td>\n",
       "      <td>1</td>\n",
       "      <td>0</td>\n",
       "      <td>0</td>\n",
       "      <td>1</td>\n",
       "      <td>0</td>\n",
       "      <td>0</td>\n",
       "      <td>0</td>\n",
       "      <td>1</td>\n",
       "    </tr>\n",
       "    <tr>\n",
       "      <th>4</th>\n",
       "      <td>5</td>\n",
       "      <td>35.0</td>\n",
       "      <td>0</td>\n",
       "      <td>0</td>\n",
       "      <td>8.0500</td>\n",
       "      <td>0</td>\n",
       "      <td>0</td>\n",
       "      <td>1</td>\n",
       "      <td>0</td>\n",
       "      <td>1</td>\n",
       "      <td>0</td>\n",
       "      <td>0</td>\n",
       "      <td>1</td>\n",
       "    </tr>\n",
       "  </tbody>\n",
       "</table>\n",
       "</div>"
      ],
      "text/plain": [
       "   PassengerId   Age  SibSp  Parch     Fare  Pclass_1  Pclass_2  Pclass_3  \\\n",
       "0            1  22.0      1      0   7.2500         0         0         1   \n",
       "1            2  38.0      1      0  71.2833         1         0         0   \n",
       "2            3  26.0      0      0   7.9250         0         0         1   \n",
       "3            4  35.0      1      0  53.1000         1         0         0   \n",
       "4            5  35.0      0      0   8.0500         0         0         1   \n",
       "\n",
       "   Sex_female  Sex_male  Embarked_C  Embarked_Q  Embarked_S  \n",
       "0           0         1           0           0           1  \n",
       "1           1         0           1           0           0  \n",
       "2           1         0           0           0           1  \n",
       "3           1         0           0           0           1  \n",
       "4           0         1           0           0           1  "
      ]
     },
     "execution_count": 3,
     "metadata": {},
     "output_type": "execute_result"
    }
   ],
   "source": [
    "X.head()"
   ]
  },
  {
   "cell_type": "code",
   "execution_count": 4,
   "metadata": {},
   "outputs": [
    {
     "data": {
      "text/html": [
       "<div>\n",
       "<style scoped>\n",
       "    .dataframe tbody tr th:only-of-type {\n",
       "        vertical-align: middle;\n",
       "    }\n",
       "\n",
       "    .dataframe tbody tr th {\n",
       "        vertical-align: top;\n",
       "    }\n",
       "\n",
       "    .dataframe thead th {\n",
       "        text-align: right;\n",
       "    }\n",
       "</style>\n",
       "<table border=\"1\" class=\"dataframe\">\n",
       "  <thead>\n",
       "    <tr style=\"text-align: right;\">\n",
       "      <th></th>\n",
       "      <th>Survived</th>\n",
       "    </tr>\n",
       "  </thead>\n",
       "  <tbody>\n",
       "    <tr>\n",
       "      <th>0</th>\n",
       "      <td>0</td>\n",
       "    </tr>\n",
       "    <tr>\n",
       "      <th>1</th>\n",
       "      <td>1</td>\n",
       "    </tr>\n",
       "    <tr>\n",
       "      <th>2</th>\n",
       "      <td>1</td>\n",
       "    </tr>\n",
       "    <tr>\n",
       "      <th>3</th>\n",
       "      <td>1</td>\n",
       "    </tr>\n",
       "    <tr>\n",
       "      <th>4</th>\n",
       "      <td>0</td>\n",
       "    </tr>\n",
       "  </tbody>\n",
       "</table>\n",
       "</div>"
      ],
      "text/plain": [
       "   Survived\n",
       "0         0\n",
       "1         1\n",
       "2         1\n",
       "3         1\n",
       "4         0"
      ]
     },
     "execution_count": 4,
     "metadata": {},
     "output_type": "execute_result"
    }
   ],
   "source": [
    "Y.head()"
   ]
  },
  {
   "cell_type": "markdown",
   "metadata": {},
   "source": [
    "This is great. Now that we have our x (feat) and y(target), we can go ahead and make a split necessary for supervised learning."
   ]
  },
  {
   "cell_type": "markdown",
   "metadata": {},
   "source": [
    "## Create a 70/30 Train/Test split\n",
    "- Using features and target variables above , create a 70/30 split using "
   ]
  },
  {
   "cell_type": "code",
   "execution_count": 5,
   "metadata": {},
   "outputs": [],
   "source": [
    "# Create a 70/30 split for given X and y \n",
    "X_train, X_test, y_train, y_test = train_test_split(X, Y, test_size=0.3)\n",
    "\n",
    "# Your code here "
   ]
  },
  {
   "cell_type": "markdown",
   "metadata": {},
   "source": [
    "So now we have our data ready for training, lets first train a DT classifier with this data\n",
    "## Train a Vanilla Classifier\n",
    "\n",
    "__Note:__ The term \"vanilla\" is used for a machine learning algorithm with its default settings (no tweaking/tuning).\n",
    "\n",
    "- Create a decision tree instance\n",
    "- Fit a DT classifier with training dataset using all default settings for hyperparameters i.e. we dont change any parameter.\n",
    "- Set the impurity crietria to \"entropy\"."
   ]
  },
  {
   "cell_type": "code",
   "execution_count": 6,
   "metadata": {},
   "outputs": [
    {
     "data": {
      "text/plain": [
       "DecisionTreeClassifier(class_weight=None, criterion='entropy', max_depth=None,\n",
       "            max_features=None, max_leaf_nodes=None,\n",
       "            min_impurity_decrease=0.0, min_impurity_split=None,\n",
       "            min_samples_leaf=1, min_samples_split=2,\n",
       "            min_weight_fraction_leaf=0.0, presort=False, random_state=None,\n",
       "            splitter='best')"
      ]
     },
     "execution_count": 6,
     "metadata": {},
     "output_type": "execute_result"
    }
   ],
   "source": [
    "# Train the classifier using training data \n",
    "dtc = DecisionTreeClassifier(criterion='entropy')\n",
    "dtc.fit(X_train, y_train)\n",
    "\n",
    "# Your code here "
   ]
  },
  {
   "cell_type": "markdown",
   "metadata": {},
   "source": [
    "## Make predictions \n",
    "- Create a set of predictions using the test set \n",
    "- Using `y_test` and `y_pred`, calculate the AUC (Area under curve) to check the predictive performance"
   ]
  },
  {
   "cell_type": "markdown",
   "metadata": {},
   "source": [
    "### def calc_roc_auc"
   ]
  },
  {
   "cell_type": "code",
   "execution_count": 7,
   "metadata": {},
   "outputs": [],
   "source": [
    "def calc_roc_auc(X_test,y_test,dtc,verbose=False):\n",
    "    \"\"\"Tests the results of an already-fit classifer. \n",
    "    Takes X_test, y_test, classifer, verbose (True\" print result)\n",
    "    Returns the AUC for the roc_curve as a %\"\"\"\n",
    "    y_pred = dtc.predict(X_test)\n",
    "\n",
    "    FP_rate, TP_rate, thresh = roc_curve(y_test,y_pred)\n",
    "    roc_auc = auc(FP_rate,TP_rate)\n",
    "    roc_auc_perc = round(roc_auc*100,3)\n",
    "    # Your code here \n",
    "    if verbose:\n",
    "        print(f\"roc_curve's auc = {roc_auc_perc}%\")\n",
    "    return roc_auc_perc"
   ]
  },
  {
   "cell_type": "code",
   "execution_count": 8,
   "metadata": {},
   "outputs": [],
   "source": [
    "# params={param_name:param_values}\n",
    "# dtc.set_params(params)"
   ]
  },
  {
   "cell_type": "code",
   "execution_count": 9,
   "metadata": {},
   "outputs": [
    {
     "name": "stdout",
     "output_type": "stream",
     "text": [
      "roc_curve auc = 0.7649010443713576\n"
     ]
    },
    {
     "data": {
      "text/plain": [
       "76.49"
      ]
     },
     "execution_count": 9,
     "metadata": {},
     "output_type": "execute_result"
    }
   ],
   "source": [
    "# Make predictions using test set \n",
    "y_pred = dtc.predict(X_test)\n",
    "\n",
    "FP_rate, TP_rate, thresh = roc_curve(y_test,y_pred)\n",
    "roc_auc = auc(FP_rate,TP_rate)\n",
    "# Your code here \n",
    "print(f'roc_curve auc = {roc_auc}')\n",
    "\n",
    "# Check the AUC of predictions\n",
    "calc_roc_auc(X_test,y_test,dtc)\n",
    "# roc_auc()\n",
    "# Your code here "
   ]
  },
  {
   "cell_type": "markdown",
   "metadata": {},
   "source": [
    "### def tune_params"
   ]
  },
  {
   "cell_type": "code",
   "execution_count": 10,
   "metadata": {},
   "outputs": [],
   "source": [
    "def tune_params(param_name, param_values):\n",
    "    \"\"\"Takes in param_name to tune with param_values, plots train vs test AUC's. \n",
    "    Returns df_results and df_style with color coded results\"\"\"\n",
    "    res_list = [[param_name,'train_roc_auc','test_roc_auc']]\n",
    "\n",
    "    # Loop through all values in param_values\n",
    "    for value in param_values:\n",
    "        # Create Model, set params\n",
    "        dtc_temp = DecisionTreeClassifier(criterion='entropy')\n",
    "        params={param_name:value}\n",
    "        dtc_temp.set_params(**params)\n",
    "\n",
    "        # Fit model\n",
    "        dtc_temp.fit(X_train, y_train)\n",
    "        \n",
    "        # Get roc_auc for training data\n",
    "        train_roc_auc = calc_roc_auc(X_train,y_train,dtc_temp)\n",
    "        # Get roc_auc for test data\n",
    "        test_res_roc_auc = calc_roc_auc(X_test,y_test,dtc_temp)\n",
    "        # Append value and results to res_list\n",
    "        res_list.append([value,train_roc_auc,test_res_roc_auc])\n",
    "\n",
    "    # Turn results into df_results (basically same as using list2df)\n",
    "    df_results = pd.DataFrame(res_list[1:],columns=res_list[0])\n",
    "    df_results.set_index(param_name,inplace=True)\n",
    "    \n",
    "    # Plot df_results\n",
    "    df_results.plot()\n",
    "        \n",
    "    # Color-coded dataframe s\n",
    "    import seaborn as sns\n",
    "    cm = sns.light_palette(\"green\", as_cmap=True)\n",
    "    df_syle = df_results.style.background_gradient(cmap=cm)#,low=results.min(),high=results.max())\n",
    "\n",
    "    return df_results, df_syle"
   ]
  },
  {
   "cell_type": "markdown",
   "metadata": {},
   "source": [
    "## Maximum Tree Depth\n",
    "\n",
    "Let's first check for the best depth parameter for our decision tree. \n",
    "- Create an array for for depth values ranging from 1 - 32. \n",
    "- In a loop, train the classifier for each depth value (32 runs) \n",
    "- Calculate the training and test AUC for each run \n",
    "- Plot a graph to show under/over fitting and optimal value \n",
    "- Interpret the results"
   ]
  },
  {
   "cell_type": "code",
   "execution_count": 11,
   "metadata": {},
   "outputs": [
    {
     "data": {
      "text/html": [
       "<style  type=\"text/css\" >\n",
       "    #T_d8f3bb68_6452_11e9_802e_9453306e5c34row0_col0 {\n",
       "            background-color:  #d3f5d3;\n",
       "            color:  #000000;\n",
       "        }    #T_d8f3bb68_6452_11e9_802e_9453306e5c34row0_col1 {\n",
       "            background-color:  #7ec67e;\n",
       "            color:  #000000;\n",
       "        }    #T_d8f3bb68_6452_11e9_802e_9453306e5c34row1_col0 {\n",
       "            background-color:  #e5ffe5;\n",
       "            color:  #000000;\n",
       "        }    #T_d8f3bb68_6452_11e9_802e_9453306e5c34row1_col1 {\n",
       "            background-color:  #caf0ca;\n",
       "            color:  #000000;\n",
       "        }    #T_d8f3bb68_6452_11e9_802e_9453306e5c34row2_col0 {\n",
       "            background-color:  #abdfab;\n",
       "            color:  #000000;\n",
       "        }    #T_d8f3bb68_6452_11e9_802e_9453306e5c34row2_col1 {\n",
       "            background-color:  #058205;\n",
       "            color:  #f1f1f1;\n",
       "        }    #T_d8f3bb68_6452_11e9_802e_9453306e5c34row3_col0 {\n",
       "            background-color:  #a5dba5;\n",
       "            color:  #000000;\n",
       "        }    #T_d8f3bb68_6452_11e9_802e_9453306e5c34row3_col1 {\n",
       "            background-color:  #008000;\n",
       "            color:  #f1f1f1;\n",
       "        }    #T_d8f3bb68_6452_11e9_802e_9453306e5c34row4_col0 {\n",
       "            background-color:  #93d193;\n",
       "            color:  #000000;\n",
       "        }    #T_d8f3bb68_6452_11e9_802e_9453306e5c34row4_col1 {\n",
       "            background-color:  #4dab4d;\n",
       "            color:  #000000;\n",
       "        }    #T_d8f3bb68_6452_11e9_802e_9453306e5c34row5_col0 {\n",
       "            background-color:  #83c983;\n",
       "            color:  #000000;\n",
       "        }    #T_d8f3bb68_6452_11e9_802e_9453306e5c34row5_col1 {\n",
       "            background-color:  #389f38;\n",
       "            color:  #000000;\n",
       "        }    #T_d8f3bb68_6452_11e9_802e_9453306e5c34row6_col0 {\n",
       "            background-color:  #86ca86;\n",
       "            color:  #000000;\n",
       "        }    #T_d8f3bb68_6452_11e9_802e_9453306e5c34row6_col1 {\n",
       "            background-color:  #7ec67e;\n",
       "            color:  #000000;\n",
       "        }    #T_d8f3bb68_6452_11e9_802e_9453306e5c34row7_col0 {\n",
       "            background-color:  #6abb6a;\n",
       "            color:  #000000;\n",
       "        }    #T_d8f3bb68_6452_11e9_802e_9453306e5c34row7_col1 {\n",
       "            background-color:  #7bc47b;\n",
       "            color:  #000000;\n",
       "        }    #T_d8f3bb68_6452_11e9_802e_9453306e5c34row8_col0 {\n",
       "            background-color:  #64b764;\n",
       "            color:  #000000;\n",
       "        }    #T_d8f3bb68_6452_11e9_802e_9453306e5c34row8_col1 {\n",
       "            background-color:  #95d395;\n",
       "            color:  #000000;\n",
       "        }    #T_d8f3bb68_6452_11e9_802e_9453306e5c34row9_col0 {\n",
       "            background-color:  #53ae53;\n",
       "            color:  #000000;\n",
       "        }    #T_d8f3bb68_6452_11e9_802e_9453306e5c34row9_col1 {\n",
       "            background-color:  #6bbb6b;\n",
       "            color:  #000000;\n",
       "        }    #T_d8f3bb68_6452_11e9_802e_9453306e5c34row10_col0 {\n",
       "            background-color:  #3aa03a;\n",
       "            color:  #000000;\n",
       "        }    #T_d8f3bb68_6452_11e9_802e_9453306e5c34row10_col1 {\n",
       "            background-color:  #d0f3d0;\n",
       "            color:  #000000;\n",
       "        }    #T_d8f3bb68_6452_11e9_802e_9453306e5c34row11_col0 {\n",
       "            background-color:  #2a972a;\n",
       "            color:  #000000;\n",
       "        }    #T_d8f3bb68_6452_11e9_802e_9453306e5c34row11_col1 {\n",
       "            background-color:  #94d294;\n",
       "            color:  #000000;\n",
       "        }    #T_d8f3bb68_6452_11e9_802e_9453306e5c34row12_col0 {\n",
       "            background-color:  #1d901d;\n",
       "            color:  #000000;\n",
       "        }    #T_d8f3bb68_6452_11e9_802e_9453306e5c34row12_col1 {\n",
       "            background-color:  #7ec67e;\n",
       "            color:  #000000;\n",
       "        }    #T_d8f3bb68_6452_11e9_802e_9453306e5c34row13_col0 {\n",
       "            background-color:  #158b15;\n",
       "            color:  #000000;\n",
       "        }    #T_d8f3bb68_6452_11e9_802e_9453306e5c34row13_col1 {\n",
       "            background-color:  #8bcd8b;\n",
       "            color:  #000000;\n",
       "        }    #T_d8f3bb68_6452_11e9_802e_9453306e5c34row14_col0 {\n",
       "            background-color:  #0e880e;\n",
       "            color:  #f1f1f1;\n",
       "        }    #T_d8f3bb68_6452_11e9_802e_9453306e5c34row14_col1 {\n",
       "            background-color:  #a5dba5;\n",
       "            color:  #000000;\n",
       "        }    #T_d8f3bb68_6452_11e9_802e_9453306e5c34row15_col0 {\n",
       "            background-color:  #048204;\n",
       "            color:  #f1f1f1;\n",
       "        }    #T_d8f3bb68_6452_11e9_802e_9453306e5c34row15_col1 {\n",
       "            background-color:  #cbf1cb;\n",
       "            color:  #000000;\n",
       "        }    #T_d8f3bb68_6452_11e9_802e_9453306e5c34row16_col0 {\n",
       "            background-color:  #048204;\n",
       "            color:  #f1f1f1;\n",
       "        }    #T_d8f3bb68_6452_11e9_802e_9453306e5c34row16_col1 {\n",
       "            background-color:  #a9dea9;\n",
       "            color:  #000000;\n",
       "        }    #T_d8f3bb68_6452_11e9_802e_9453306e5c34row17_col0 {\n",
       "            background-color:  #008000;\n",
       "            color:  #f1f1f1;\n",
       "        }    #T_d8f3bb68_6452_11e9_802e_9453306e5c34row17_col1 {\n",
       "            background-color:  #e5ffe5;\n",
       "            color:  #000000;\n",
       "        }    #T_d8f3bb68_6452_11e9_802e_9453306e5c34row18_col0 {\n",
       "            background-color:  #028102;\n",
       "            color:  #f1f1f1;\n",
       "        }    #T_d8f3bb68_6452_11e9_802e_9453306e5c34row18_col1 {\n",
       "            background-color:  #c8efc8;\n",
       "            color:  #000000;\n",
       "        }    #T_d8f3bb68_6452_11e9_802e_9453306e5c34row19_col0 {\n",
       "            background-color:  #008000;\n",
       "            color:  #f1f1f1;\n",
       "        }    #T_d8f3bb68_6452_11e9_802e_9453306e5c34row19_col1 {\n",
       "            background-color:  #b7e5b7;\n",
       "            color:  #000000;\n",
       "        }    #T_d8f3bb68_6452_11e9_802e_9453306e5c34row20_col0 {\n",
       "            background-color:  #008000;\n",
       "            color:  #f1f1f1;\n",
       "        }    #T_d8f3bb68_6452_11e9_802e_9453306e5c34row20_col1 {\n",
       "            background-color:  #b7e5b7;\n",
       "            color:  #000000;\n",
       "        }    #T_d8f3bb68_6452_11e9_802e_9453306e5c34row21_col0 {\n",
       "            background-color:  #008000;\n",
       "            color:  #f1f1f1;\n",
       "        }    #T_d8f3bb68_6452_11e9_802e_9453306e5c34row21_col1 {\n",
       "            background-color:  #cbf1cb;\n",
       "            color:  #000000;\n",
       "        }    #T_d8f3bb68_6452_11e9_802e_9453306e5c34row22_col0 {\n",
       "            background-color:  #008000;\n",
       "            color:  #f1f1f1;\n",
       "        }    #T_d8f3bb68_6452_11e9_802e_9453306e5c34row22_col1 {\n",
       "            background-color:  #b7e5b7;\n",
       "            color:  #000000;\n",
       "        }    #T_d8f3bb68_6452_11e9_802e_9453306e5c34row23_col0 {\n",
       "            background-color:  #008000;\n",
       "            color:  #f1f1f1;\n",
       "        }    #T_d8f3bb68_6452_11e9_802e_9453306e5c34row23_col1 {\n",
       "            background-color:  #8fcf8f;\n",
       "            color:  #000000;\n",
       "        }    #T_d8f3bb68_6452_11e9_802e_9453306e5c34row24_col0 {\n",
       "            background-color:  #008000;\n",
       "            color:  #f1f1f1;\n",
       "        }    #T_d8f3bb68_6452_11e9_802e_9453306e5c34row24_col1 {\n",
       "            background-color:  #bbe8bb;\n",
       "            color:  #000000;\n",
       "        }    #T_d8f3bb68_6452_11e9_802e_9453306e5c34row25_col0 {\n",
       "            background-color:  #008000;\n",
       "            color:  #f1f1f1;\n",
       "        }    #T_d8f3bb68_6452_11e9_802e_9453306e5c34row25_col1 {\n",
       "            background-color:  #aee0ae;\n",
       "            color:  #000000;\n",
       "        }    #T_d8f3bb68_6452_11e9_802e_9453306e5c34row26_col0 {\n",
       "            background-color:  #008000;\n",
       "            color:  #f1f1f1;\n",
       "        }    #T_d8f3bb68_6452_11e9_802e_9453306e5c34row26_col1 {\n",
       "            background-color:  #8fcf8f;\n",
       "            color:  #000000;\n",
       "        }    #T_d8f3bb68_6452_11e9_802e_9453306e5c34row27_col0 {\n",
       "            background-color:  #008000;\n",
       "            color:  #f1f1f1;\n",
       "        }    #T_d8f3bb68_6452_11e9_802e_9453306e5c34row27_col1 {\n",
       "            background-color:  #a6dca6;\n",
       "            color:  #000000;\n",
       "        }    #T_d8f3bb68_6452_11e9_802e_9453306e5c34row28_col0 {\n",
       "            background-color:  #008000;\n",
       "            color:  #f1f1f1;\n",
       "        }    #T_d8f3bb68_6452_11e9_802e_9453306e5c34row28_col1 {\n",
       "            background-color:  #b6e5b6;\n",
       "            color:  #000000;\n",
       "        }    #T_d8f3bb68_6452_11e9_802e_9453306e5c34row29_col0 {\n",
       "            background-color:  #008000;\n",
       "            color:  #f1f1f1;\n",
       "        }    #T_d8f3bb68_6452_11e9_802e_9453306e5c34row29_col1 {\n",
       "            background-color:  #90d090;\n",
       "            color:  #000000;\n",
       "        }    #T_d8f3bb68_6452_11e9_802e_9453306e5c34row30_col0 {\n",
       "            background-color:  #008000;\n",
       "            color:  #f1f1f1;\n",
       "        }    #T_d8f3bb68_6452_11e9_802e_9453306e5c34row30_col1 {\n",
       "            background-color:  #ccf1cc;\n",
       "            color:  #000000;\n",
       "        }    #T_d8f3bb68_6452_11e9_802e_9453306e5c34row31_col0 {\n",
       "            background-color:  #008000;\n",
       "            color:  #f1f1f1;\n",
       "        }    #T_d8f3bb68_6452_11e9_802e_9453306e5c34row31_col1 {\n",
       "            background-color:  #8fcf8f;\n",
       "            color:  #000000;\n",
       "        }</style><table id=\"T_d8f3bb68_6452_11e9_802e_9453306e5c34\" ><thead>    <tr>        <th class=\"blank level0\" ></th>        <th class=\"col_heading level0 col0\" >train_roc_auc</th>        <th class=\"col_heading level0 col1\" >test_roc_auc</th>    </tr>    <tr>        <th class=\"index_name level0\" >max_depth</th>        <th class=\"blank\" ></th>        <th class=\"blank\" ></th>    </tr></thead><tbody>\n",
       "                <tr>\n",
       "                        <th id=\"T_d8f3bb68_6452_11e9_802e_9453306e5c34level0_row0\" class=\"row_heading level0 row0\" >1</th>\n",
       "                        <td id=\"T_d8f3bb68_6452_11e9_802e_9453306e5c34row0_col0\" class=\"data row0 col0\" >75.74</td>\n",
       "                        <td id=\"T_d8f3bb68_6452_11e9_802e_9453306e5c34row0_col1\" class=\"data row0 col1\" >78.691</td>\n",
       "            </tr>\n",
       "            <tr>\n",
       "                        <th id=\"T_d8f3bb68_6452_11e9_802e_9453306e5c34level0_row1\" class=\"row_heading level0 row1\" >2</th>\n",
       "                        <td id=\"T_d8f3bb68_6452_11e9_802e_9453306e5c34row1_col0\" class=\"data row1 col0\" >73.661</td>\n",
       "                        <td id=\"T_d8f3bb68_6452_11e9_802e_9453306e5c34row1_col1\" class=\"data row1 col1\" >75.977</td>\n",
       "            </tr>\n",
       "            <tr>\n",
       "                        <th id=\"T_d8f3bb68_6452_11e9_802e_9453306e5c34level0_row2\" class=\"row_heading level0 row2\" >3</th>\n",
       "                        <td id=\"T_d8f3bb68_6452_11e9_802e_9453306e5c34row2_col0\" class=\"data row2 col0\" >80.366</td>\n",
       "                        <td id=\"T_d8f3bb68_6452_11e9_802e_9453306e5c34row2_col1\" class=\"data row2 col1\" >83.042</td>\n",
       "            </tr>\n",
       "            <tr>\n",
       "                        <th id=\"T_d8f3bb68_6452_11e9_802e_9453306e5c34level0_row3\" class=\"row_heading level0 row3\" >4</th>\n",
       "                        <td id=\"T_d8f3bb68_6452_11e9_802e_9453306e5c34row3_col0\" class=\"data row3 col0\" >81.093</td>\n",
       "                        <td id=\"T_d8f3bb68_6452_11e9_802e_9453306e5c34row3_col1\" class=\"data row3 col1\" >83.212</td>\n",
       "            </tr>\n",
       "            <tr>\n",
       "                        <th id=\"T_d8f3bb68_6452_11e9_802e_9453306e5c34level0_row4\" class=\"row_heading level0 row4\" >5</th>\n",
       "                        <td id=\"T_d8f3bb68_6452_11e9_802e_9453306e5c34row4_col0\" class=\"data row4 col0\" >83.2</td>\n",
       "                        <td id=\"T_d8f3bb68_6452_11e9_802e_9453306e5c34row4_col1\" class=\"data row4 col1\" >80.434</td>\n",
       "            </tr>\n",
       "            <tr>\n",
       "                        <th id=\"T_d8f3bb68_6452_11e9_802e_9453306e5c34level0_row5\" class=\"row_heading level0 row5\" >6</th>\n",
       "                        <td id=\"T_d8f3bb68_6452_11e9_802e_9453306e5c34row5_col0\" class=\"data row5 col0\" >84.911</td>\n",
       "                        <td id=\"T_d8f3bb68_6452_11e9_802e_9453306e5c34row5_col1\" class=\"data row5 col1\" >81.207</td>\n",
       "            </tr>\n",
       "            <tr>\n",
       "                        <th id=\"T_d8f3bb68_6452_11e9_802e_9453306e5c34level0_row6\" class=\"row_heading level0 row6\" >7</th>\n",
       "                        <td id=\"T_d8f3bb68_6452_11e9_802e_9453306e5c34row6_col0\" class=\"data row6 col0\" >84.597</td>\n",
       "                        <td id=\"T_d8f3bb68_6452_11e9_802e_9453306e5c34row6_col1\" class=\"data row6 col1\" >78.677</td>\n",
       "            </tr>\n",
       "            <tr>\n",
       "                        <th id=\"T_d8f3bb68_6452_11e9_802e_9453306e5c34level0_row7\" class=\"row_heading level0 row7\" >8</th>\n",
       "                        <td id=\"T_d8f3bb68_6452_11e9_802e_9453306e5c34row7_col0\" class=\"data row7 col0\" >87.818</td>\n",
       "                        <td id=\"T_d8f3bb68_6452_11e9_802e_9453306e5c34row7_col1\" class=\"data row7 col1\" >78.795</td>\n",
       "            </tr>\n",
       "            <tr>\n",
       "                        <th id=\"T_d8f3bb68_6452_11e9_802e_9453306e5c34level0_row8\" class=\"row_heading level0 row8\" >9</th>\n",
       "                        <td id=\"T_d8f3bb68_6452_11e9_802e_9453306e5c34row8_col0\" class=\"data row8 col0\" >88.501</td>\n",
       "                        <td id=\"T_d8f3bb68_6452_11e9_802e_9453306e5c34row8_col1\" class=\"data row8 col1\" >77.852</td>\n",
       "            </tr>\n",
       "            <tr>\n",
       "                        <th id=\"T_d8f3bb68_6452_11e9_802e_9453306e5c34level0_row9\" class=\"row_heading level0 row9\" >10</th>\n",
       "                        <td id=\"T_d8f3bb68_6452_11e9_802e_9453306e5c34row9_col0\" class=\"data row9 col0\" >90.519</td>\n",
       "                        <td id=\"T_d8f3bb68_6452_11e9_802e_9453306e5c34row9_col1\" class=\"data row9 col1\" >79.372</td>\n",
       "            </tr>\n",
       "            <tr>\n",
       "                        <th id=\"T_d8f3bb68_6452_11e9_802e_9453306e5c34level0_row10\" class=\"row_heading level0 row10\" >11</th>\n",
       "                        <td id=\"T_d8f3bb68_6452_11e9_802e_9453306e5c34row10_col0\" class=\"data row10 col0\" >93.353</td>\n",
       "                        <td id=\"T_d8f3bb68_6452_11e9_802e_9453306e5c34row10_col1\" class=\"data row10 col1\" >75.769</td>\n",
       "            </tr>\n",
       "            <tr>\n",
       "                        <th id=\"T_d8f3bb68_6452_11e9_802e_9453306e5c34level0_row11\" class=\"row_heading level0 row11\" >12</th>\n",
       "                        <td id=\"T_d8f3bb68_6452_11e9_802e_9453306e5c34row11_col0\" class=\"data row11 col0\" >95.156</td>\n",
       "                        <td id=\"T_d8f3bb68_6452_11e9_802e_9453306e5c34row11_col1\" class=\"data row11 col1\" >77.918</td>\n",
       "            </tr>\n",
       "            <tr>\n",
       "                        <th id=\"T_d8f3bb68_6452_11e9_802e_9453306e5c34level0_row12\" class=\"row_heading level0 row12\" >13</th>\n",
       "                        <td id=\"T_d8f3bb68_6452_11e9_802e_9453306e5c34row12_col0\" class=\"data row12 col0\" >96.611</td>\n",
       "                        <td id=\"T_d8f3bb68_6452_11e9_802e_9453306e5c34row12_col1\" class=\"data row12 col1\" >78.691</td>\n",
       "            </tr>\n",
       "            <tr>\n",
       "                        <th id=\"T_d8f3bb68_6452_11e9_802e_9453306e5c34level0_row13\" class=\"row_heading level0 row13\" >14</th>\n",
       "                        <td id=\"T_d8f3bb68_6452_11e9_802e_9453306e5c34row13_col0\" class=\"data row13 col0\" >97.6</td>\n",
       "                        <td id=\"T_d8f3bb68_6452_11e9_802e_9453306e5c34row13_col1\" class=\"data row13 col1\" >78.207</td>\n",
       "            </tr>\n",
       "            <tr>\n",
       "                        <th id=\"T_d8f3bb68_6452_11e9_802e_9453306e5c34level0_row14\" class=\"row_heading level0 row14\" >15</th>\n",
       "                        <td id=\"T_d8f3bb68_6452_11e9_802e_9453306e5c34row14_col0\" class=\"data row14 col0\" >98.283</td>\n",
       "                        <td id=\"T_d8f3bb68_6452_11e9_802e_9453306e5c34row14_col1\" class=\"data row14 col1\" >77.289</td>\n",
       "            </tr>\n",
       "            <tr>\n",
       "                        <th id=\"T_d8f3bb68_6452_11e9_802e_9453306e5c34level0_row15\" class=\"row_heading level0 row15\" >16</th>\n",
       "                        <td id=\"T_d8f3bb68_6452_11e9_802e_9453306e5c34row15_col0\" class=\"data row15 col0\" >99.571</td>\n",
       "                        <td id=\"T_d8f3bb68_6452_11e9_802e_9453306e5c34row15_col1\" class=\"data row15 col1\" >75.913</td>\n",
       "            </tr>\n",
       "            <tr>\n",
       "                        <th id=\"T_d8f3bb68_6452_11e9_802e_9453306e5c34level0_row16\" class=\"row_heading level0 row16\" >17</th>\n",
       "                        <td id=\"T_d8f3bb68_6452_11e9_802e_9453306e5c34row16_col0\" class=\"data row16 col0\" >99.571</td>\n",
       "                        <td id=\"T_d8f3bb68_6452_11e9_802e_9453306e5c34row16_col1\" class=\"data row16 col1\" >77.145</td>\n",
       "            </tr>\n",
       "            <tr>\n",
       "                        <th id=\"T_d8f3bb68_6452_11e9_802e_9453306e5c34level0_row17\" class=\"row_heading level0 row17\" >18</th>\n",
       "                        <td id=\"T_d8f3bb68_6452_11e9_802e_9453306e5c34row17_col0\" class=\"data row17 col0\" >100</td>\n",
       "                        <td id=\"T_d8f3bb68_6452_11e9_802e_9453306e5c34row17_col1\" class=\"data row17 col1\" >74.97</td>\n",
       "            </tr>\n",
       "            <tr>\n",
       "                        <th id=\"T_d8f3bb68_6452_11e9_802e_9453306e5c34level0_row18\" class=\"row_heading level0 row18\" >19</th>\n",
       "                        <td id=\"T_d8f3bb68_6452_11e9_802e_9453306e5c34row18_col0\" class=\"data row18 col0\" >99.785</td>\n",
       "                        <td id=\"T_d8f3bb68_6452_11e9_802e_9453306e5c34row18_col1\" class=\"data row18 col1\" >76.057</td>\n",
       "            </tr>\n",
       "            <tr>\n",
       "                        <th id=\"T_d8f3bb68_6452_11e9_802e_9453306e5c34level0_row19\" class=\"row_heading level0 row19\" >20</th>\n",
       "                        <td id=\"T_d8f3bb68_6452_11e9_802e_9453306e5c34row19_col0\" class=\"data row19 col0\" >100</td>\n",
       "                        <td id=\"T_d8f3bb68_6452_11e9_802e_9453306e5c34row19_col1\" class=\"data row19 col1\" >76.66</td>\n",
       "            </tr>\n",
       "            <tr>\n",
       "                        <th id=\"T_d8f3bb68_6452_11e9_802e_9453306e5c34level0_row20\" class=\"row_heading level0 row20\" >21</th>\n",
       "                        <td id=\"T_d8f3bb68_6452_11e9_802e_9453306e5c34row20_col0\" class=\"data row20 col0\" >100</td>\n",
       "                        <td id=\"T_d8f3bb68_6452_11e9_802e_9453306e5c34row20_col1\" class=\"data row20 col1\" >76.66</td>\n",
       "            </tr>\n",
       "            <tr>\n",
       "                        <th id=\"T_d8f3bb68_6452_11e9_802e_9453306e5c34level0_row21\" class=\"row_heading level0 row21\" >22</th>\n",
       "                        <td id=\"T_d8f3bb68_6452_11e9_802e_9453306e5c34row21_col0\" class=\"data row21 col0\" >100</td>\n",
       "                        <td id=\"T_d8f3bb68_6452_11e9_802e_9453306e5c34row21_col1\" class=\"data row21 col1\" >75.913</td>\n",
       "            </tr>\n",
       "            <tr>\n",
       "                        <th id=\"T_d8f3bb68_6452_11e9_802e_9453306e5c34level0_row22\" class=\"row_heading level0 row22\" >23</th>\n",
       "                        <td id=\"T_d8f3bb68_6452_11e9_802e_9453306e5c34row22_col0\" class=\"data row22 col0\" >100</td>\n",
       "                        <td id=\"T_d8f3bb68_6452_11e9_802e_9453306e5c34row22_col1\" class=\"data row22 col1\" >76.66</td>\n",
       "            </tr>\n",
       "            <tr>\n",
       "                        <th id=\"T_d8f3bb68_6452_11e9_802e_9453306e5c34level0_row23\" class=\"row_heading level0 row23\" >24</th>\n",
       "                        <td id=\"T_d8f3bb68_6452_11e9_802e_9453306e5c34row23_col0\" class=\"data row23 col0\" >100</td>\n",
       "                        <td id=\"T_d8f3bb68_6452_11e9_802e_9453306e5c34row23_col1\" class=\"data row23 col1\" >78.062</td>\n",
       "            </tr>\n",
       "            <tr>\n",
       "                        <th id=\"T_d8f3bb68_6452_11e9_802e_9453306e5c34level0_row24\" class=\"row_heading level0 row24\" >25</th>\n",
       "                        <td id=\"T_d8f3bb68_6452_11e9_802e_9453306e5c34row24_col0\" class=\"data row24 col0\" >100</td>\n",
       "                        <td id=\"T_d8f3bb68_6452_11e9_802e_9453306e5c34row24_col1\" class=\"data row24 col1\" >76.49</td>\n",
       "            </tr>\n",
       "            <tr>\n",
       "                        <th id=\"T_d8f3bb68_6452_11e9_802e_9453306e5c34level0_row25\" class=\"row_heading level0 row25\" >26</th>\n",
       "                        <td id=\"T_d8f3bb68_6452_11e9_802e_9453306e5c34row25_col0\" class=\"data row25 col0\" >100</td>\n",
       "                        <td id=\"T_d8f3bb68_6452_11e9_802e_9453306e5c34row25_col1\" class=\"data row25 col1\" >76.975</td>\n",
       "            </tr>\n",
       "            <tr>\n",
       "                        <th id=\"T_d8f3bb68_6452_11e9_802e_9453306e5c34level0_row26\" class=\"row_heading level0 row26\" >27</th>\n",
       "                        <td id=\"T_d8f3bb68_6452_11e9_802e_9453306e5c34row26_col0\" class=\"data row26 col0\" >100</td>\n",
       "                        <td id=\"T_d8f3bb68_6452_11e9_802e_9453306e5c34row26_col1\" class=\"data row26 col1\" >78.062</td>\n",
       "            </tr>\n",
       "            <tr>\n",
       "                        <th id=\"T_d8f3bb68_6452_11e9_802e_9453306e5c34level0_row27\" class=\"row_heading level0 row27\" >28</th>\n",
       "                        <td id=\"T_d8f3bb68_6452_11e9_802e_9453306e5c34row27_col0\" class=\"data row27 col0\" >100</td>\n",
       "                        <td id=\"T_d8f3bb68_6452_11e9_802e_9453306e5c34row27_col1\" class=\"data row27 col1\" >77.263</td>\n",
       "            </tr>\n",
       "            <tr>\n",
       "                        <th id=\"T_d8f3bb68_6452_11e9_802e_9453306e5c34level0_row28\" class=\"row_heading level0 row28\" >29</th>\n",
       "                        <td id=\"T_d8f3bb68_6452_11e9_802e_9453306e5c34row28_col0\" class=\"data row28 col0\" >100</td>\n",
       "                        <td id=\"T_d8f3bb68_6452_11e9_802e_9453306e5c34row28_col1\" class=\"data row28 col1\" >76.686</td>\n",
       "            </tr>\n",
       "            <tr>\n",
       "                        <th id=\"T_d8f3bb68_6452_11e9_802e_9453306e5c34level0_row29\" class=\"row_heading level0 row29\" >30</th>\n",
       "                        <td id=\"T_d8f3bb68_6452_11e9_802e_9453306e5c34row29_col0\" class=\"data row29 col0\" >100</td>\n",
       "                        <td id=\"T_d8f3bb68_6452_11e9_802e_9453306e5c34row29_col1\" class=\"data row29 col1\" >78.036</td>\n",
       "            </tr>\n",
       "            <tr>\n",
       "                        <th id=\"T_d8f3bb68_6452_11e9_802e_9453306e5c34level0_row30\" class=\"row_heading level0 row30\" >31</th>\n",
       "                        <td id=\"T_d8f3bb68_6452_11e9_802e_9453306e5c34row30_col0\" class=\"data row30 col0\" >100</td>\n",
       "                        <td id=\"T_d8f3bb68_6452_11e9_802e_9453306e5c34row30_col1\" class=\"data row30 col1\" >75.887</td>\n",
       "            </tr>\n",
       "            <tr>\n",
       "                        <th id=\"T_d8f3bb68_6452_11e9_802e_9453306e5c34level0_row31\" class=\"row_heading level0 row31\" >32</th>\n",
       "                        <td id=\"T_d8f3bb68_6452_11e9_802e_9453306e5c34row31_col0\" class=\"data row31 col0\" >100</td>\n",
       "                        <td id=\"T_d8f3bb68_6452_11e9_802e_9453306e5c34row31_col1\" class=\"data row31 col1\" >78.062</td>\n",
       "            </tr>\n",
       "    </tbody></table>"
      ],
      "text/plain": [
       "<pandas.io.formats.style.Styler at 0x1e2ff722c50>"
      ]
     },
     "execution_count": 11,
     "metadata": {},
     "output_type": "execute_result"
    },
    {
     "data": {
      "image/png": "[encoded data removed]",
      "text/plain": [
       "<Figure size 432x288 with 1 Axes>"
      ]
     },
     "metadata": {
      "needs_background": "light"
     },
     "output_type": "display_data"
    }
   ],
   "source": [
    "# Identify the optimal tree depth for given data\n",
    "depths = np.array(range(1,33))\n",
    "param_name = 'max_depth'\n",
    "results, s = tune_params('max_depth',depths)\n",
    "s"
   ]
  },
  {
   "cell_type": "code",
   "execution_count": 12,
   "metadata": {},
   "outputs": [],
   "source": [
    "# You observations here \n"
   ]
  },
  {
   "cell_type": "code",
   "execution_count": null,
   "metadata": {},
   "outputs": [],
   "source": []
  },
  {
   "cell_type": "markdown",
   "metadata": {},
   "source": [
    "## Minimum Sample Split\n",
    "\n",
    "Now check for the best `min_samples_splits` parameter for our decision tree. \n",
    "- Create an array for for `min_sample_splits` values ranging from 0.1 - 1 with an increment of 0.1 \n",
    "- In a loop, train the classifier for each `min_samples_splits` value (10 runs) \n",
    "- Calculate the training and test AUC for each run \n",
    "- Plot a graph to show under/over fitting and optimal value \n",
    "- Interpret the results"
   ]
  },
  {
   "cell_type": "code",
   "execution_count": 13,
   "metadata": {},
   "outputs": [
    {
     "data": {
      "text/html": [
       "<style  type=\"text/css\" >\n",
       "    #T_d916e2e2_6452_11e9_a478_9453306e5c34row0_col0 {\n",
       "            background-color:  #008000;\n",
       "            color:  #f1f1f1;\n",
       "        }    #T_d916e2e2_6452_11e9_a478_9453306e5c34row0_col1 {\n",
       "            background-color:  #93d193;\n",
       "            color:  #000000;\n",
       "        }    #T_d916e2e2_6452_11e9_a478_9453306e5c34row1_col0 {\n",
       "            background-color:  #e5ffe5;\n",
       "            color:  #000000;\n",
       "        }    #T_d916e2e2_6452_11e9_a478_9453306e5c34row1_col1 {\n",
       "            background-color:  #e5ffe5;\n",
       "            color:  #000000;\n",
       "        }    #T_d916e2e2_6452_11e9_a478_9453306e5c34row2_col0 {\n",
       "            background-color:  #e5ffe5;\n",
       "            color:  #000000;\n",
       "        }    #T_d916e2e2_6452_11e9_a478_9453306e5c34row2_col1 {\n",
       "            background-color:  #e5ffe5;\n",
       "            color:  #000000;\n",
       "        }    #T_d916e2e2_6452_11e9_a478_9453306e5c34row3_col0 {\n",
       "            background-color:  #56af56;\n",
       "            color:  #000000;\n",
       "        }    #T_d916e2e2_6452_11e9_a478_9453306e5c34row3_col1 {\n",
       "            background-color:  #008000;\n",
       "            color:  #f1f1f1;\n",
       "        }    #T_d916e2e2_6452_11e9_a478_9453306e5c34row4_col0 {\n",
       "            background-color:  #56af56;\n",
       "            color:  #000000;\n",
       "        }    #T_d916e2e2_6452_11e9_a478_9453306e5c34row4_col1 {\n",
       "            background-color:  #008000;\n",
       "            color:  #f1f1f1;\n",
       "        }    #T_d916e2e2_6452_11e9_a478_9453306e5c34row5_col0 {\n",
       "            background-color:  #56af56;\n",
       "            color:  #000000;\n",
       "        }    #T_d916e2e2_6452_11e9_a478_9453306e5c34row5_col1 {\n",
       "            background-color:  #008000;\n",
       "            color:  #f1f1f1;\n",
       "        }    #T_d916e2e2_6452_11e9_a478_9453306e5c34row6_col0 {\n",
       "            background-color:  #90d090;\n",
       "            color:  #000000;\n",
       "        }    #T_d916e2e2_6452_11e9_a478_9453306e5c34row6_col1 {\n",
       "            background-color:  #65b865;\n",
       "            color:  #000000;\n",
       "        }    #T_d916e2e2_6452_11e9_a478_9453306e5c34row7_col0 {\n",
       "            background-color:  #90d090;\n",
       "            color:  #000000;\n",
       "        }    #T_d916e2e2_6452_11e9_a478_9453306e5c34row7_col1 {\n",
       "            background-color:  #65b865;\n",
       "            color:  #000000;\n",
       "        }    #T_d916e2e2_6452_11e9_a478_9453306e5c34row8_col0 {\n",
       "            background-color:  #90d090;\n",
       "            color:  #000000;\n",
       "        }    #T_d916e2e2_6452_11e9_a478_9453306e5c34row8_col1 {\n",
       "            background-color:  #65b865;\n",
       "            color:  #000000;\n",
       "        }    #T_d916e2e2_6452_11e9_a478_9453306e5c34row9_col0 {\n",
       "            background-color:  #90d090;\n",
       "            color:  #000000;\n",
       "        }    #T_d916e2e2_6452_11e9_a478_9453306e5c34row9_col1 {\n",
       "            background-color:  #65b865;\n",
       "            color:  #000000;\n",
       "        }</style><table id=\"T_d916e2e2_6452_11e9_a478_9453306e5c34\" ><thead>    <tr>        <th class=\"blank level0\" ></th>        <th class=\"col_heading level0 col0\" >train_roc_auc</th>        <th class=\"col_heading level0 col1\" >test_roc_auc</th>    </tr>    <tr>        <th class=\"index_name level0\" >min_samples_split</th>        <th class=\"blank\" ></th>        <th class=\"blank\" ></th>    </tr></thead><tbody>\n",
       "                <tr>\n",
       "                        <th id=\"T_d916e2e2_6452_11e9_a478_9453306e5c34level0_row0\" class=\"row_heading level0 row0\" >0.1</th>\n",
       "                        <td id=\"T_d916e2e2_6452_11e9_a478_9453306e5c34row0_col0\" class=\"data row0 col0\" >79.248</td>\n",
       "                        <td id=\"T_d916e2e2_6452_11e9_a478_9453306e5c34row0_col1\" class=\"data row0 col1\" >77.734</td>\n",
       "            </tr>\n",
       "            <tr>\n",
       "                        <th id=\"T_d916e2e2_6452_11e9_a478_9453306e5c34level0_row1\" class=\"row_heading level0 row1\" >0.2</th>\n",
       "                        <td id=\"T_d916e2e2_6452_11e9_a478_9453306e5c34row1_col0\" class=\"data row1 col0\" >73.661</td>\n",
       "                        <td id=\"T_d916e2e2_6452_11e9_a478_9453306e5c34row1_col1\" class=\"data row1 col1\" >75.977</td>\n",
       "            </tr>\n",
       "            <tr>\n",
       "                        <th id=\"T_d916e2e2_6452_11e9_a478_9453306e5c34level0_row2\" class=\"row_heading level0 row2\" >0.30000000000000004</th>\n",
       "                        <td id=\"T_d916e2e2_6452_11e9_a478_9453306e5c34row2_col0\" class=\"data row2 col0\" >73.661</td>\n",
       "                        <td id=\"T_d916e2e2_6452_11e9_a478_9453306e5c34row2_col1\" class=\"data row2 col1\" >75.977</td>\n",
       "            </tr>\n",
       "            <tr>\n",
       "                        <th id=\"T_d916e2e2_6452_11e9_a478_9453306e5c34level0_row3\" class=\"row_heading level0 row3\" >0.4</th>\n",
       "                        <td id=\"T_d916e2e2_6452_11e9_a478_9453306e5c34row3_col0\" class=\"data row3 col0\" >77.164</td>\n",
       "                        <td id=\"T_d916e2e2_6452_11e9_a478_9453306e5c34row3_col1\" class=\"data row3 col1\" >80.815</td>\n",
       "            </tr>\n",
       "            <tr>\n",
       "                        <th id=\"T_d916e2e2_6452_11e9_a478_9453306e5c34level0_row4\" class=\"row_heading level0 row4\" >0.5</th>\n",
       "                        <td id=\"T_d916e2e2_6452_11e9_a478_9453306e5c34row4_col0\" class=\"data row4 col0\" >77.164</td>\n",
       "                        <td id=\"T_d916e2e2_6452_11e9_a478_9453306e5c34row4_col1\" class=\"data row4 col1\" >80.815</td>\n",
       "            </tr>\n",
       "            <tr>\n",
       "                        <th id=\"T_d916e2e2_6452_11e9_a478_9453306e5c34level0_row5\" class=\"row_heading level0 row5\" >0.6</th>\n",
       "                        <td id=\"T_d916e2e2_6452_11e9_a478_9453306e5c34row5_col0\" class=\"data row5 col0\" >77.164</td>\n",
       "                        <td id=\"T_d916e2e2_6452_11e9_a478_9453306e5c34row5_col1\" class=\"data row5 col1\" >80.815</td>\n",
       "            </tr>\n",
       "            <tr>\n",
       "                        <th id=\"T_d916e2e2_6452_11e9_a478_9453306e5c34level0_row6\" class=\"row_heading level0 row6\" >0.7000000000000001</th>\n",
       "                        <td id=\"T_d916e2e2_6452_11e9_a478_9453306e5c34row6_col0\" class=\"data row6 col0\" >75.74</td>\n",
       "                        <td id=\"T_d916e2e2_6452_11e9_a478_9453306e5c34row6_col1\" class=\"data row6 col1\" >78.691</td>\n",
       "            </tr>\n",
       "            <tr>\n",
       "                        <th id=\"T_d916e2e2_6452_11e9_a478_9453306e5c34level0_row7\" class=\"row_heading level0 row7\" >0.8</th>\n",
       "                        <td id=\"T_d916e2e2_6452_11e9_a478_9453306e5c34row7_col0\" class=\"data row7 col0\" >75.74</td>\n",
       "                        <td id=\"T_d916e2e2_6452_11e9_a478_9453306e5c34row7_col1\" class=\"data row7 col1\" >78.691</td>\n",
       "            </tr>\n",
       "            <tr>\n",
       "                        <th id=\"T_d916e2e2_6452_11e9_a478_9453306e5c34level0_row8\" class=\"row_heading level0 row8\" >0.9</th>\n",
       "                        <td id=\"T_d916e2e2_6452_11e9_a478_9453306e5c34row8_col0\" class=\"data row8 col0\" >75.74</td>\n",
       "                        <td id=\"T_d916e2e2_6452_11e9_a478_9453306e5c34row8_col1\" class=\"data row8 col1\" >78.691</td>\n",
       "            </tr>\n",
       "            <tr>\n",
       "                        <th id=\"T_d916e2e2_6452_11e9_a478_9453306e5c34level0_row9\" class=\"row_heading level0 row9\" >1.0</th>\n",
       "                        <td id=\"T_d916e2e2_6452_11e9_a478_9453306e5c34row9_col0\" class=\"data row9 col0\" >75.74</td>\n",
       "                        <td id=\"T_d916e2e2_6452_11e9_a478_9453306e5c34row9_col1\" class=\"data row9 col1\" >78.691</td>\n",
       "            </tr>\n",
       "    </tbody></table>"
      ],
      "text/plain": [
       "<pandas.io.formats.style.Styler at 0x1e2ffff7320>"
      ]
     },
     "execution_count": 13,
     "metadata": {},
     "output_type": "execute_result"
    },
    {
     "data": {
      "image/png": "[encoded data removed]",
      "text/plain": [
       "<Figure size 432x288 with 1 Axes>"
      ]
     },
     "metadata": {
      "needs_background": "light"
     },
     "output_type": "display_data"
    }
   ],
   "source": [
    "# Identify the optimal min-samples-split for given data\n",
    "param_name = 'min_samples_split'\n",
    "param_values = np.linspace(0.1,1.0,10, endpoint=True)\n",
    "\n",
    "results, s = tune_params(param_name,param_values)\n",
    "s\n",
    "# Your code here "
   ]
  },
  {
   "cell_type": "code",
   "execution_count": 14,
   "metadata": {},
   "outputs": [],
   "source": [
    "# Your observations\n",
    "# roc stabilizes at 0.5\n"
   ]
  },
  {
   "cell_type": "markdown",
   "metadata": {},
   "source": [
    "## Minimum Sample Leafs\n",
    "\n",
    "Now check for the best `min_samples_leafs` parameter value for our decision tree. \n",
    "- Create an array for for `min_samples_leafs` values ranging from 0.1 - 0.5 with an increment of 0.1 \n",
    "- In a loop, train the classifier for each `min_samples_leafs` value (5 runs) \n",
    "- Calculate the training and test AUC for each run \n",
    "- Plot a graph to show under/over fitting and optimal value \n",
    "- Interpret the results"
   ]
  },
  {
   "cell_type": "code",
   "execution_count": 15,
   "metadata": {},
   "outputs": [
    {
     "data": {
      "image/png": "[encoded data removed]",
      "text/plain": [
       "<Figure size 432x288 with 1 Axes>"
      ]
     },
     "metadata": {
      "needs_background": "light"
     },
     "output_type": "display_data"
    }
   ],
   "source": [
    "# Calculate the optimal value for minimum sample leafs\n",
    "param_name = 'min_samples_leaf'\n",
    "param_values = np.linspace(0.1,0.5,5, endpoint=True)\n",
    "# Your code here \n",
    "res, s = tune_params(param_name, param_values)"
   ]
  },
  {
   "cell_type": "code",
   "execution_count": 17,
   "metadata": {},
   "outputs": [],
   "source": [
    "# Your observations here \n",
    "# best values are between 0 and 0.3\n"
   ]
  },
  {
   "cell_type": "markdown",
   "metadata": {},
   "source": [
    "## Maximum Features\n",
    "\n",
    "Now check for the best `max_features` parameter value for our decision tree. \n",
    "- Create an array for for `max_features` values ranging from 1 - 12 (1 features vs all)\n",
    "- In a loop, train the classifier for each `max_features` value (12 runs) \n",
    "- Calculate the training and test AUC for each run \n",
    "- Plot a graph to show under/over fitting and optimal value \n",
    "- Interpret the results"
   ]
  },
  {
   "cell_type": "code",
   "execution_count": 18,
   "metadata": {},
   "outputs": [],
   "source": [
    "# param_values"
   ]
  },
  {
   "cell_type": "code",
   "execution_count": 19,
   "metadata": {},
   "outputs": [
    {
     "data": {
      "text/html": [
       "<style  type=\"text/css\" >\n",
       "    #T_ddc944ec_6452_11e9_a5b1_9453306e5c34row0_col0 {\n",
       "            background-color:  #e5ffe5;\n",
       "            color:  #000000;\n",
       "        }    #T_ddc944ec_6452_11e9_a5b1_9453306e5c34row0_col1 {\n",
       "            background-color:  #219221;\n",
       "            color:  #000000;\n",
       "        }    #T_ddc944ec_6452_11e9_a5b1_9453306e5c34row1_col0 {\n",
       "            background-color:  #e5ffe5;\n",
       "            color:  #000000;\n",
       "        }    #T_ddc944ec_6452_11e9_a5b1_9453306e5c34row1_col1 {\n",
       "            background-color:  #c2ebc2;\n",
       "            color:  #000000;\n",
       "        }    #T_ddc944ec_6452_11e9_a5b1_9453306e5c34row2_col0 {\n",
       "            background-color:  #e5ffe5;\n",
       "            color:  #000000;\n",
       "        }    #T_ddc944ec_6452_11e9_a5b1_9453306e5c34row2_col1 {\n",
       "            background-color:  #8bcd8b;\n",
       "            color:  #000000;\n",
       "        }    #T_ddc944ec_6452_11e9_a5b1_9453306e5c34row3_col0 {\n",
       "            background-color:  #e5ffe5;\n",
       "            color:  #000000;\n",
       "        }    #T_ddc944ec_6452_11e9_a5b1_9453306e5c34row3_col1 {\n",
       "            background-color:  #219221;\n",
       "            color:  #000000;\n",
       "        }    #T_ddc944ec_6452_11e9_a5b1_9453306e5c34row4_col0 {\n",
       "            background-color:  #e5ffe5;\n",
       "            color:  #000000;\n",
       "        }    #T_ddc944ec_6452_11e9_a5b1_9453306e5c34row4_col1 {\n",
       "            background-color:  #78c278;\n",
       "            color:  #000000;\n",
       "        }    #T_ddc944ec_6452_11e9_a5b1_9453306e5c34row5_col0 {\n",
       "            background-color:  #e5ffe5;\n",
       "            color:  #000000;\n",
       "        }    #T_ddc944ec_6452_11e9_a5b1_9453306e5c34row5_col1 {\n",
       "            background-color:  #67b967;\n",
       "            color:  #000000;\n",
       "        }    #T_ddc944ec_6452_11e9_a5b1_9453306e5c34row6_col0 {\n",
       "            background-color:  #e5ffe5;\n",
       "            color:  #000000;\n",
       "        }    #T_ddc944ec_6452_11e9_a5b1_9453306e5c34row6_col1 {\n",
       "            background-color:  #008000;\n",
       "            color:  #f1f1f1;\n",
       "        }    #T_ddc944ec_6452_11e9_a5b1_9453306e5c34row7_col0 {\n",
       "            background-color:  #e5ffe5;\n",
       "            color:  #000000;\n",
       "        }    #T_ddc944ec_6452_11e9_a5b1_9453306e5c34row7_col1 {\n",
       "            background-color:  #e5ffe5;\n",
       "            color:  #000000;\n",
       "        }    #T_ddc944ec_6452_11e9_a5b1_9453306e5c34row8_col0 {\n",
       "            background-color:  #e5ffe5;\n",
       "            color:  #000000;\n",
       "        }    #T_ddc944ec_6452_11e9_a5b1_9453306e5c34row8_col1 {\n",
       "            background-color:  #7ac47a;\n",
       "            color:  #000000;\n",
       "        }    #T_ddc944ec_6452_11e9_a5b1_9453306e5c34row9_col0 {\n",
       "            background-color:  #e5ffe5;\n",
       "            color:  #000000;\n",
       "        }    #T_ddc944ec_6452_11e9_a5b1_9453306e5c34row9_col1 {\n",
       "            background-color:  #67b967;\n",
       "            color:  #000000;\n",
       "        }    #T_ddc944ec_6452_11e9_a5b1_9453306e5c34row10_col0 {\n",
       "            background-color:  #e5ffe5;\n",
       "            color:  #000000;\n",
       "        }    #T_ddc944ec_6452_11e9_a5b1_9453306e5c34row10_col1 {\n",
       "            background-color:  #70be70;\n",
       "            color:  #000000;\n",
       "        }    #T_ddc944ec_6452_11e9_a5b1_9453306e5c34row11_col0 {\n",
       "            background-color:  #e5ffe5;\n",
       "            color:  #000000;\n",
       "        }    #T_ddc944ec_6452_11e9_a5b1_9453306e5c34row11_col1 {\n",
       "            background-color:  #0d870d;\n",
       "            color:  #f1f1f1;\n",
       "        }</style><table id=\"T_ddc944ec_6452_11e9_a5b1_9453306e5c34\" ><thead>    <tr>        <th class=\"blank level0\" ></th>        <th class=\"col_heading level0 col0\" >train_roc_auc</th>        <th class=\"col_heading level0 col1\" >test_roc_auc</th>    </tr>    <tr>        <th class=\"index_name level0\" >max_features</th>        <th class=\"blank\" ></th>        <th class=\"blank\" ></th>    </tr></thead><tbody>\n",
       "                <tr>\n",
       "                        <th id=\"T_ddc944ec_6452_11e9_a5b1_9453306e5c34level0_row0\" class=\"row_heading level0 row0\" >1</th>\n",
       "                        <td id=\"T_ddc944ec_6452_11e9_a5b1_9453306e5c34row0_col0\" class=\"data row0 col0\" >100</td>\n",
       "                        <td id=\"T_ddc944ec_6452_11e9_a5b1_9453306e5c34row0_col1\" class=\"data row0 col1\" >78.062</td>\n",
       "            </tr>\n",
       "            <tr>\n",
       "                        <th id=\"T_ddc944ec_6452_11e9_a5b1_9453306e5c34level0_row1\" class=\"row_heading level0 row1\" >2</th>\n",
       "                        <td id=\"T_ddc944ec_6452_11e9_a5b1_9453306e5c34row1_col0\" class=\"data row1 col0\" >100</td>\n",
       "                        <td id=\"T_ddc944ec_6452_11e9_a5b1_9453306e5c34row1_col1\" class=\"data row1 col1\" >74.511</td>\n",
       "            </tr>\n",
       "            <tr>\n",
       "                        <th id=\"T_ddc944ec_6452_11e9_a5b1_9453306e5c34level0_row2\" class=\"row_heading level0 row2\" >3</th>\n",
       "                        <td id=\"T_ddc944ec_6452_11e9_a5b1_9453306e5c34row2_col0\" class=\"data row2 col0\" >100</td>\n",
       "                        <td id=\"T_ddc944ec_6452_11e9_a5b1_9453306e5c34row2_col1\" class=\"data row2 col1\" >75.743</td>\n",
       "            </tr>\n",
       "            <tr>\n",
       "                        <th id=\"T_ddc944ec_6452_11e9_a5b1_9453306e5c34level0_row3\" class=\"row_heading level0 row3\" >4</th>\n",
       "                        <td id=\"T_ddc944ec_6452_11e9_a5b1_9453306e5c34row3_col0\" class=\"data row3 col0\" >100</td>\n",
       "                        <td id=\"T_ddc944ec_6452_11e9_a5b1_9453306e5c34row3_col1\" class=\"data row3 col1\" >78.062</td>\n",
       "            </tr>\n",
       "            <tr>\n",
       "                        <th id=\"T_ddc944ec_6452_11e9_a5b1_9453306e5c34level0_row4\" class=\"row_heading level0 row4\" >5</th>\n",
       "                        <td id=\"T_ddc944ec_6452_11e9_a5b1_9453306e5c34row4_col0\" class=\"data row4 col0\" >100</td>\n",
       "                        <td id=\"T_ddc944ec_6452_11e9_a5b1_9453306e5c34row4_col1\" class=\"data row4 col1\" >76.15</td>\n",
       "            </tr>\n",
       "            <tr>\n",
       "                        <th id=\"T_ddc944ec_6452_11e9_a5b1_9453306e5c34level0_row5\" class=\"row_heading level0 row5\" >6</th>\n",
       "                        <td id=\"T_ddc944ec_6452_11e9_a5b1_9453306e5c34row5_col0\" class=\"data row5 col0\" >100</td>\n",
       "                        <td id=\"T_ddc944ec_6452_11e9_a5b1_9453306e5c34row5_col1\" class=\"data row5 col1\" >76.516</td>\n",
       "            </tr>\n",
       "            <tr>\n",
       "                        <th id=\"T_ddc944ec_6452_11e9_a5b1_9453306e5c34level0_row6\" class=\"row_heading level0 row6\" >7</th>\n",
       "                        <td id=\"T_ddc944ec_6452_11e9_a5b1_9453306e5c34row6_col0\" class=\"data row6 col0\" >100</td>\n",
       "                        <td id=\"T_ddc944ec_6452_11e9_a5b1_9453306e5c34row6_col1\" class=\"data row6 col1\" >78.81</td>\n",
       "            </tr>\n",
       "            <tr>\n",
       "                        <th id=\"T_ddc944ec_6452_11e9_a5b1_9453306e5c34level0_row7\" class=\"row_heading level0 row7\" >8</th>\n",
       "                        <td id=\"T_ddc944ec_6452_11e9_a5b1_9453306e5c34row7_col0\" class=\"data row7 col0\" >100</td>\n",
       "                        <td id=\"T_ddc944ec_6452_11e9_a5b1_9453306e5c34row7_col1\" class=\"data row7 col1\" >73.712</td>\n",
       "            </tr>\n",
       "            <tr>\n",
       "                        <th id=\"T_ddc944ec_6452_11e9_a5b1_9453306e5c34level0_row8\" class=\"row_heading level0 row8\" >9</th>\n",
       "                        <td id=\"T_ddc944ec_6452_11e9_a5b1_9453306e5c34row8_col0\" class=\"data row8 col0\" >100</td>\n",
       "                        <td id=\"T_ddc944ec_6452_11e9_a5b1_9453306e5c34row8_col1\" class=\"data row8 col1\" >76.083</td>\n",
       "            </tr>\n",
       "            <tr>\n",
       "                        <th id=\"T_ddc944ec_6452_11e9_a5b1_9453306e5c34level0_row9\" class=\"row_heading level0 row9\" >10</th>\n",
       "                        <td id=\"T_ddc944ec_6452_11e9_a5b1_9453306e5c34row9_col0\" class=\"data row9 col0\" >100</td>\n",
       "                        <td id=\"T_ddc944ec_6452_11e9_a5b1_9453306e5c34row9_col1\" class=\"data row9 col1\" >76.516</td>\n",
       "            </tr>\n",
       "            <tr>\n",
       "                        <th id=\"T_ddc944ec_6452_11e9_a5b1_9453306e5c34level0_row10\" class=\"row_heading level0 row10\" >11</th>\n",
       "                        <td id=\"T_ddc944ec_6452_11e9_a5b1_9453306e5c34row10_col0\" class=\"data row10 col0\" >100</td>\n",
       "                        <td id=\"T_ddc944ec_6452_11e9_a5b1_9453306e5c34row10_col1\" class=\"data row10 col1\" >76.32</td>\n",
       "            </tr>\n",
       "            <tr>\n",
       "                        <th id=\"T_ddc944ec_6452_11e9_a5b1_9453306e5c34level0_row11\" class=\"row_heading level0 row11\" >12</th>\n",
       "                        <td id=\"T_ddc944ec_6452_11e9_a5b1_9453306e5c34row11_col0\" class=\"data row11 col0\" >100</td>\n",
       "                        <td id=\"T_ddc944ec_6452_11e9_a5b1_9453306e5c34row11_col1\" class=\"data row11 col1\" >78.521</td>\n",
       "            </tr>\n",
       "    </tbody></table>"
      ],
      "text/plain": [
       "<pandas.io.formats.style.Styler at 0x1e2ff722358>"
      ]
     },
     "execution_count": 19,
     "metadata": {},
     "output_type": "execute_result"
    },
    {
     "data": {
      "image/png": "[encoded data removed]",
      "text/plain": [
       "<Figure size 432x288 with 1 Axes>"
      ]
     },
     "metadata": {
      "needs_background": "light"
     },
     "output_type": "display_data"
    }
   ],
   "source": [
    "# Find the best value for optimal maximum feature size\n",
    "param_name = 'max_features'\n",
    "param_values = list(range(1,X_train.shape[1]))\n",
    "\n",
    "# Your code here \n",
    "res, s = tune_params(param_name,param_values)\n",
    "s"
   ]
  },
  {
   "cell_type": "code",
   "execution_count": 20,
   "metadata": {},
   "outputs": [],
   "source": [
    "# Your observations here \n",
    "\n",
    "# No clear effect on the result (plateaus)\n",
    "# Maybe highest at 5\n"
   ]
  },
  {
   "cell_type": "markdown",
   "metadata": {},
   "source": [
    "## Re-train the classifier with chosen values\n",
    "\n",
    "So now we shall use the best values from each training phase above and feed it back to our classifier and see if have any improvement in predictive performance. \n",
    "\n",
    "- Train the classifier with optimal values identified \n",
    "- compare the AUC with vanilla DT AUC \n",
    "- Interpret the results of comparison"
   ]
  },
  {
   "cell_type": "code",
   "execution_count": 21,
   "metadata": {},
   "outputs": [
    {
     "name": "stdout",
     "output_type": "stream",
     "text": [
      "roc_curve's auc = 75.584%\n"
     ]
    },
    {
     "data": {
      "text/plain": [
       "75.584"
      ]
     },
     "execution_count": 21,
     "metadata": {},
     "output_type": "execute_result"
    }
   ],
   "source": [
    "# train a classifier with optimal values identified above\n",
    "dtc_final = DecisionTreeClassifier()\n",
    "params={\n",
    "    'max_depth': 3,\n",
    "    'min_samples_split': 0.1,\n",
    "    'min_samples_leaf' : 0.1,\n",
    "    'max_features' : 5\n",
    "    \n",
    "}\n",
    "dtc_final.set_params(**params)\n",
    "dtc_final.fit(X_train,y_train)\n",
    "# Your code here \n",
    "calc_roc_auc(X_test,y_test, dtc_final, verbose=True)\n",
    "# dtc_final.fit(X_train, y_train)\n",
    "# y_pred = dtc_final(X_test)\n",
    "\n",
    "# FP, TP,thresh = roc_curve(y_test,y_pred)\n",
    "\n",
    "# =auc(FP,TP)"
   ]
  },
  {
   "cell_type": "code",
   "execution_count": null,
   "metadata": {},
   "outputs": [],
   "source": [
    "# You observations here \n"
   ]
  },
  {
   "cell_type": "code",
   "execution_count": 26,
   "metadata": {},
   "outputs": [],
   "source": [
    "def viz_tree(tree_object):\n",
    "    # Visualize the decision tree using graph viz library \n",
    "\n",
    "    from sklearn.externals.six import StringIO  \n",
    "    from IPython.display import Image  \n",
    "    from sklearn.tree import export_graphviz\n",
    "    import pydotplus\n",
    "    dot_data = StringIO()\n",
    "    export_graphviz(tree_object, out_file=dot_data, filled=True, rounded=True,special_characters=True)\n",
    "    graph = pydotplus.graph_from_dot_data(dot_data.getvalue())  \n",
    "    tree_viz = Image(graph.create_png())\n",
    "    return tree_viz"
   ]
  },
  {
   "cell_type": "code",
   "execution_count": 28,
   "metadata": {},
   "outputs": [
    {
     "data": {
      "image/png": "[encoded data removed]",
      "text/plain": [
       "<IPython.core.display.Image object>"
      ]
     },
     "execution_count": 28,
     "metadata": {},
     "output_type": "execute_result"
    }
   ],
   "source": [
    "viz_tree(dtc_final)\n"
   ]
  },
  {
   "cell_type": "markdown",
   "metadata": {},
   "source": [
    "In the next section, we shall talk about hyper-parameter tuning using a technique called \"grid-search\" to make this process even more granular and decisive. \n"
   ]
  },
  {
   "cell_type": "markdown",
   "metadata": {},
   "source": [
    "## Summary \n",
    "\n",
    "In this lesson, we looked at tuning a decision tree classifier in order to avoid over fitting and increasing the generalization capabilities of the classifier. For the Titanic dataset, we see that identifying optimal parameter values can result in some improvements towards predictions. This idea will be exploited further in upcoming lessons and labs. "
   ]
  }
 ],
 "metadata": {
  "kernelspec": {
   "display_name": "learn-env",
   "language": "python",
   "name": "learn-env"
  },
  "language_info": {
   "codemirror_mode": {
    "name": "ipython",
    "version": 3
   },
   "file_extension": ".py",
   "mimetype": "text/x-python",
   "name": "python",
   "nbconvert_exporter": "python",
   "pygments_lexer": "ipython3",
   "version": "3.6.8"
  },
  "toc": {
   "base_numbering": 1,
   "nav_menu": {},
   "number_sections": false,
   "sideBar": true,
   "skip_h1_title": false,
   "title_cell": "Table of Contents",
   "title_sidebar": "Contents",
   "toc_cell": true,
   "toc_position": {
    "height": "calc(100% - 180px)",
    "left": "10px",
    "top": "150px",
    "width": "307.2px"
   },
   "toc_section_display": true,
   "toc_window_display": true
  },
  "varInspector": {
   "cols": {
    "lenName": 16,
    "lenType": 16,
    "lenVar": 40
   },
   "kernels_config": {
    "python": {
     "delete_cmd_postfix": "",
     "delete_cmd_prefix": "del ",
     "library": "var_list.py",
     "varRefreshCmd": "print(var_dic_list())"
    },
    "r": {
     "delete_cmd_postfix": ") ",
     "delete_cmd_prefix": "rm(",
     "library": "var_list.r",
     "varRefreshCmd": "cat(var_dic_list()) "
    }
   },
   "types_to_exclude": [
    "module",
    "function",
    "builtin_function_or_method",
    "instance",
    "_Feature"
   ],
   "window_display": true
  }
 },
 "nbformat": 4,
 "nbformat_minor": 2
}
